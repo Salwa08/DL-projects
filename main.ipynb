{
 "cells": [
  {
   "cell_type": "code",
   "execution_count": 3,
   "metadata": {},
   "outputs": [],
   "source": [
    "import pandas as pd\n",
    "from tensorflow import keras \n",
    "from keras.models import Sequential\n",
    "from keras.layers import  Dense, Flatten, Conv2D, MaxPool2D, BatchNormalization, Activation, Dropout"
   ]
  },
  {
   "cell_type": "code",
   "execution_count": 66,
   "metadata": {},
   "outputs": [
    {
     "data": {
      "text/plain": [
       "(42000, 785)"
      ]
     },
     "execution_count": 66,
     "metadata": {},
     "output_type": "execute_result"
    }
   ],
   "source": [
    "#loading data\n",
    "train = pd.read_csv(\"train.csv\")\n",
    "test = pd.read_csv(\"test.csv\")\n",
    "train.shape"
   ]
  },
  {
   "cell_type": "code",
   "execution_count": 67,
   "metadata": {},
   "outputs": [],
   "source": [
    "#separating labels from dataset\n",
    "Y = train[[\"label\"]]\n",
    "df = train.drop(train.columns[0], axis = 1)\n"
   ]
  },
  {
   "cell_type": "code",
   "execution_count": 68,
   "metadata": {},
   "outputs": [
    {
     "data": {
      "text/plain": [
       "array([[1],\n",
       "       [0],\n",
       "       [1],\n",
       "       ...,\n",
       "       [7],\n",
       "       [6],\n",
       "       [9]], dtype=int64)"
      ]
     },
     "execution_count": 68,
     "metadata": {},
     "output_type": "execute_result"
    }
   ],
   "source": [
    "df = df.to_numpy()\n",
    "Y = Y.to_numpy()\n",
    "test = test.to_numpy()\n",
    "#multiclass classification problem"
   ]
  },
  {
   "cell_type": "code",
   "execution_count": 69,
   "metadata": {},
   "outputs": [
    {
     "data": {
      "text/plain": [
       "42000"
      ]
     },
     "execution_count": 69,
     "metadata": {},
     "output_type": "execute_result"
    }
   ],
   "source": [
    "df.shape[0]"
   ]
  },
  {
   "cell_type": "code",
   "execution_count": 71,
   "metadata": {},
   "outputs": [
    {
     "data": {
      "image/png": "[encoded data removed]",
      "text/plain": [
       "<Figure size 640x480 with 3 Axes>"
      ]
     },
     "metadata": {},
     "output_type": "display_data"
    }
   ],
   "source": [
    "import matplotlib.pyplot as plt\n",
    "#Convert train datset to (num_images, img_rows, img_cols) format \n",
    "df = df.reshape(df.shape[0], 28, 28)\n",
    "test = test.reshape(test.shape[0], 28, 28)\n",
    "\n",
    "for i in range(6, 9):\n",
    "    plt.subplot(330 + (i+1))\n",
    "    plt.imshow(df[i], cmap=plt.get_cmap('gray'))\n",
    "    plt.title(df[i].all());"
   ]
  },
  {
   "cell_type": "code",
   "execution_count": 74,
   "metadata": {},
   "outputs": [
    {
     "data": {
      "text/plain": [
       "(42000, 28, 28, 1)"
      ]
     },
     "execution_count": 74,
     "metadata": {},
     "output_type": "execute_result"
    }
   ],
   "source": [
    "#reshaping features array, expand 1 more dimension as 1 for colour channel gray\n",
    "df = df.reshape(len(df),28,28,1).astype('float32') \n",
    "test = test.reshape(len(test),28,28,1).astype('float32') \n",
    "\n",
    "df.shape"
   ]
  },
  {
   "cell_type": "code",
   "execution_count": 76,
   "metadata": {},
   "outputs": [],
   "source": [
    "#feature Normalization\n",
    "import numpy as np\n",
    "mean_px = df.mean().astype(np.float32)\n",
    "std_px = df.std().astype(np.float32)\n",
    "df = (df-mean_px)/std_px\n",
    "\n",
    "mean_px_test = test.mean().astype(np.float32)\n",
    "std_px_test = test.std().astype(np.float32)\n",
    "test = (test-mean_px)/std_px"
   ]
  },
  {
   "cell_type": "code",
   "execution_count": 80,
   "metadata": {},
   "outputs": [
    {
     "data": {
      "text/plain": [
       "10"
      ]
     },
     "execution_count": 80,
     "metadata": {},
     "output_type": "execute_result"
    }
   ],
   "source": [
    "#mapping our labels/classes to a matrix that has binary values(one_hot_encoding)\n",
    "from keras.utils import to_categorical\n",
    "Y = to_categorical(Y)\n",
    "num_classes = Y.shape[1]\n",
    "num_classes\n",
    "\n"
   ]
  },
  {
   "cell_type": "code",
   "execution_count": null,
   "metadata": {},
   "outputs": [],
   "source": [
    "''' Conv - Conv - Batch - Pool - Dropout - Conv - Conv - Batch - Pool - Dropout - Flatten -\n",
    " FullyConnected - Batch - FullyConnected - Batch - Dropout - Softmax'''"
   ]
  },
  {
   "cell_type": "code",
   "execution_count": null,
   "metadata": {},
   "outputs": [],
   "source": [
    "#building our model\n",
    "def Model():\n",
    "    model = Sequential([\n",
    "    Conv2D(28, (5, 5), activation='relu', input_shape=(28, 28, 1)),\n",
    "    Conv2D(28,  (5, 5)),\n",
    "    BatchNormalization(name = \"BatchNorm1\"),\n",
    "\n",
    "    Activation(activation='relu'),\n",
    "    MaxPool2D(2, 2),\n",
    "    Dropout(0.25),\n",
    "\n",
    "    Conv2D(64, (3, 3), padding=\"same\", activation= 'relu'),\n",
    "    Conv2D(64, (3, 3), padding=\"same\", activation= 'relu'),\n",
    "\n",
    "    BatchNormalization(name = \"BatchNorm2\"),\n",
    "\n",
    "    Activation('relu'),\n",
    "    MaxPool2D(2, 2),\n",
    "    Dropout(0.25),\n",
    "    Flatten(),\n",
    "    Dense(units=265, use_bias=False),\n",
    "\n",
    "    BatchNormalization(name = \"BatchNorm3\"),\n",
    "    Activation('relu'),\n",
    "\n",
    "    Dense(units= 128, use_bias=False),\n",
    "    BatchNormalization(name = \"BatchNorm4\"),\n",
    "    Activation('relu'), \n",
    "\n",
    "    Dense(units= 84, use_bias=False),\n",
    "    BatchNormalization(name = \"BatchNorm5\"),\n",
    "    Activation('relu'), \n",
    "\n",
    "    Dropout(0.25),\n",
    "\n",
    "    Dense(units = num_classes, activation='softmax')\n",
    "\n",
    "    ])\n",
    "    return model\n",
    "    \n",
    "   "
   ]
  },
  {
   "cell_type": "code",
   "execution_count": null,
   "metadata": {},
   "outputs": [],
   "source": [
    "from sklearn.model_selection import train_test_split\n",
    "\n",
    "x_train, x_test, y_train, y_test = train_test_split(df,Y,test_size=0.2, random_state=2)"
   ]
  },
  {
   "cell_type": "code",
   "execution_count": null,
   "metadata": {},
   "outputs": [],
   "source": [
    "model = Model()\n",
    "model.compile\n",
    "model.fit(x_train,y_train,batch_size=200,verbose=2,validation_data=(x_test,y_test),epochs=20)"
   ]
  },
  {
   "cell_type": "code",
   "execution_count": null,
   "metadata": {},
   "outputs": [],
   "source": [
    "y_pred = model.predict(test)\n",
    "y_pred = np.argmax(y_pred,axis = 1)\n",
    "y_pred = pd.Series(y_pred,name=\"Label\")\n"
   ]
  },
  {
   "cell_type": "code",
   "execution_count": null,
   "metadata": {},
   "outputs": [],
   "source": [
    "y_pred.index +=1"
   ]
  },
  {
   "cell_type": "code",
   "execution_count": null,
   "metadata": {},
   "outputs": [],
   "source": [
    "submission = y_pred.to_csv('submission.csv')"
   ]
  }
 ],
 "metadata": {
  "kernelspec": {
   "display_name": "Python 3",
   "language": "python",
   "name": "python3"
  },
  "language_info": {
   "codemirror_mode": {
    "name": "ipython",
    "version": 3
   },
   "file_extension": ".py",
   "mimetype": "text/x-python",
   "name": "python",
   "nbconvert_exporter": "python",
   "pygments_lexer": "ipython3",
   "version": "3.11.4"
  }
 },
 "nbformat": 4,
 "nbformat_minor": 2
}
